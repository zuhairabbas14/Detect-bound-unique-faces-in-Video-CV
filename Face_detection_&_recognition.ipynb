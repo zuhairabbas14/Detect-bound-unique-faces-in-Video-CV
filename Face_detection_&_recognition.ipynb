{
  "nbformat": 4,
  "nbformat_minor": 0,
  "metadata": {
    "accelerator": "GPU",
    "colab": {
      "name": "Face detection & recognition.ipynb",
      "provenance": [],
      "collapsed_sections": []
    },
    "kernelspec": {
      "display_name": "Python 3",
      "name": "python3"
    }
  },
  "cells": [
    {
      "cell_type": "markdown",
      "metadata": {
        "id": "7zJTUC0n9bNb"
      },
      "source": [
        "\n",
        "\n",
        "---\n",
        "\n",
        "**DEPENDENCIES**\n",
        "\n",
        "---\n",
        "\n"
      ]
    },
    {
      "cell_type": "code",
      "metadata": {
        "id": "JBvp-bIbPPA-"
      },
      "source": [
        "# !pip install mhyt\n",
        "# !pip install urllib3\n",
        "# !pip install mtcnn\n",
        "# !pip install face_recognition\n",
        "# !pip install cmake\n",
        "# !pip install pytube"
      ],
      "execution_count": null,
      "outputs": []
    },
    {
      "cell_type": "markdown",
      "metadata": {
        "id": "N34BTpBTTphE"
      },
      "source": [
        "\n",
        "\n",
        "---\n",
        "\n",
        "**IMPORTS**\n",
        "\n",
        "---\n",
        "\n"
      ]
    },
    {
      "cell_type": "code",
      "metadata": {
        "id": "cU-6qUnpE3jm"
      },
      "source": [
        "from IPython.display import HTML\n",
        "import urllib3\n",
        "import shutil\n",
        "import dlib\n",
        "import numpy as np\n",
        "import cv2\n",
        "import pandas as pd\n",
        "import base64\n",
        "from PIL import Image\n",
        "import face_recognition\n",
        "import cv2\n",
        "import os, time\n",
        "from base64 import b64encode\n",
        "from mtcnn.mtcnn import MTCNN\n",
        "from datetime import timedelta as td\n",
        "from sklearn import cluster\n",
        "from sklearn.decomposition import PCA\n",
        "import os\n",
        "from matplotlib import pyplot as plt\n",
        "from google.colab.patches import cv2_imshow\n",
        "from skimage import measure\n",
        "import face_recognition"
      ],
      "execution_count": null,
      "outputs": []
    },
    {
      "cell_type": "markdown",
      "metadata": {
        "id": "6O4kq6CKTuOZ"
      },
      "source": [
        "\n",
        "\n",
        "---\n",
        "\n",
        "**DOWNLOAD VIDEO**\n",
        "\n",
        "---\n",
        "\n",
        "\n"
      ]
    },
    {
      "cell_type": "code",
      "metadata": {
        "colab": {
          "base_uri": "https://localhost:8080/"
        },
        "id": "C8HzLyCOGy0U",
        "outputId": "008413ad-5b83-4041-afdb-ee56cd8ab5ce"
      },
      "source": [
        "from mhyt import yt_download\n",
        "\n",
        "yt_download(\"https://www.youtube.com/watch?v=gOFt-sz1T2A\",\"download.mp4\") "
      ],
      "execution_count": null,
      "outputs": [
        {
          "output_type": "stream",
          "text": [
            "overwrite file download.mp4\n",
            "download https://www.youtube.com/watch?v=gOFt-sz1T2A in format mp4 to file download.mp4\n",
            "[youtube] gOFt-sz1T2A: Downloading webpage\n",
            "[download] Destination: download.mp4\n",
            "[download] 100% of 16.95MiB in 00:00\n",
            "Done downloading, now converting ...\n"
          ],
          "name": "stdout"
        }
      ]
    },
    {
      "cell_type": "code",
      "metadata": {
        "id": "eQZi6KXbG2Kp"
      },
      "source": [
        "mp4 = open(\"download.mp4\", \"rb\").read()\n",
        "data_url = \"data:video/mp4;base64,\" + b64encode(mp4).decode()"
      ],
      "execution_count": null,
      "outputs": []
    },
    {
      "cell_type": "code",
      "metadata": {
        "id": "PfS9yF4PG9Lf"
      },
      "source": [
        "HTML(\"\"\"\n",
        "    <video width=400 controls>\n",
        "        <source src=\"%s\" type=\"video/mp4\">\n",
        "    </video>\n",
        "\"\"\" % data_url)"
      ],
      "execution_count": null,
      "outputs": []
    },
    {
      "cell_type": "markdown",
      "metadata": {
        "id": "_M3qRPPmS0SS"
      },
      "source": [
        "\n",
        "\n",
        "---\n",
        "\n",
        "**GET VIDEO FRAMES**\n",
        "\n",
        "---\n",
        "\n"
      ]
    },
    {
      "cell_type": "code",
      "metadata": {
        "id": "tGc-AJtVUc_s"
      },
      "source": [
        "def get_frames(fname):\n",
        "\n",
        "  col_images = []\n",
        "  cap = cv2.VideoCapture(fname)\n",
        "  ret, frames = cap.read()\n",
        "\n",
        "  if (cap.isOpened()== False): \n",
        "    print(\"Error opening video stream or file\")\n",
        "\n",
        "  while(cap.isOpened()):\n",
        "    ret, frame = cap.read()\n",
        "    if ret == True:\n",
        "      col_images.append(frame)\n",
        "    else: \n",
        "      break\n",
        "\n",
        "  cap.release()\n",
        "  cv2.destroyAllWindows()\n",
        "  return col_images\n",
        "\n",
        "\n",
        "col_images = get_frames('download.mp4')"
      ],
      "execution_count": null,
      "outputs": []
    },
    {
      "cell_type": "code",
      "metadata": {
        "id": "fNXKkf1NUfZK"
      },
      "source": [
        "if not os.path.exists('output_images'):\n",
        "  os.mkdir('output_images')"
      ],
      "execution_count": null,
      "outputs": []
    },
    {
      "cell_type": "markdown",
      "metadata": {
        "id": "61uWuA8n-Y_e"
      },
      "source": [
        "\n",
        "\n",
        "---\n",
        "\n",
        "**KNOWN EMBEDDINGS FROM IMAGES**\n",
        "\n",
        "---\n",
        "\n"
      ]
    },
    {
      "cell_type": "code",
      "metadata": {
        "id": "3syz77HG-f-Q"
      },
      "source": [
        "appearances = {}\n",
        "known_face_encodings=[]\n",
        "known_face_names = []\n",
        "\n",
        "root = \"/content/images/\"\n",
        "for filename in os.listdir(root):\n",
        "  if filename.endswith(\".PNG\"):\n",
        "    # print(filename)\n",
        "    path = os.path.join(root, filename)\n",
        "    filter_image = face_recognition.load_image_file(path)\n",
        "    kernel = np.array([[-1,-1,-1], [-1,9,-1], [-1,-1,-1]])\n",
        "    filter_image = cv2.resize(filter_image, (0, 0), fx=5.00, fy=5.00)\n",
        "    filter_face_encoding = face_recognition.face_encodings(filter_image)\n",
        "    known_face_encodings.append(filter_face_encoding[0])\n",
        "    known_face_names.append(filename.split('.')[0].lower())\n",
        "    appearances[filename.split('.')[0].lower()] = []"
      ],
      "execution_count": null,
      "outputs": []
    },
    {
      "cell_type": "markdown",
      "metadata": {
        "id": "dUatK542-HgF"
      },
      "source": [
        "\n",
        "\n",
        "---\n",
        "\n",
        "**FACE DETECTION & IDENTIFICATION**\n",
        "\n",
        "---\n",
        "\n"
      ]
    },
    {
      "cell_type": "code",
      "metadata": {
        "id": "zE6fSmdlxULl"
      },
      "source": [
        "user_appeared, face_locations, face_encodings, face_names = [], [], [], []\n",
        "process_this_frame = True\n",
        "\n",
        "detector = MTCNN()\n",
        "\n",
        "def face():\n",
        "\n",
        "    for i in range(0, len(col_images), 5): \n",
        "\n",
        "        f_num = i\n",
        "        done = float(f_num / len(col_images) * 100)\n",
        "        print('<> Frames processed: ' + str(round(done, 2)) + '% ')\n",
        "\n",
        "        frame = col_images[i]\n",
        "        process_this_frame = True\n",
        "\n",
        "        small_frame = cv2.resize(frame, (0, 0), fx=1.0, fy=1.0) # keeping same size beacuse takes too much time.\n",
        "        rgb_small_frame = small_frame[:, :, ::-1]\n",
        "        kernel = np.array([[-1,-1,-1], [-1,9,-1], [-1,-1,-1]])\n",
        "        rgb_small_frame = cv2.filter2D(rgb_small_frame, -1, kernel)\n",
        "\n",
        "        if process_this_frame:\n",
        "            faces = detector.detect_faces(rgb_small_frame)\n",
        "            face_locations = []\n",
        "\n",
        "            for result in faces:\n",
        "                loc = result['box']\n",
        "                x, y, w, h = loc\n",
        "                face_locations.append((y, x+w, y+h, x)) # (top, right, bottom, left)\n",
        "\n",
        "            face_encodings = face_recognition.face_encodings(rgb_small_frame, known_face_locations=face_locations)\n",
        "            face_names = []\n",
        "\n",
        "            for i, face_encoding in enumerate(face_encodings):\n",
        "                matches = face_recognition.compare_faces(known_face_encodings, face_encoding, tolerance = 0.52)\n",
        "                name = ''\n",
        "                if True in matches:\n",
        "                    first_match_index = matches.index(True)\n",
        "                    name = known_face_names[first_match_index]\n",
        "                    # print(name)\n",
        "                else:\n",
        "                  new_img = frame.copy()\n",
        "                  l, t, r, b = face_locations[i][3], face_locations[i][0], face_locations[i][1], face_locations[i][2]\n",
        "                  t, r, b, l = int(t * 1), int(r * 1), int(b * 1), int(l * 1)\n",
        "                  cv2.rectangle(new_img, (l, t), (r, b), (0, 0, 255), 2)\n",
        "                  plt.ion()\n",
        "                  plt.figure()\n",
        "                  plt.imshow(new_img)\n",
        "                  plt.show(block=False)\n",
        "                  plt.close()\n",
        "                  time.sleep(0.0005)\n",
        "                  print('Now who is this?')\n",
        "                  name = input()\n",
        "                  time.sleep(0.0005)\n",
        "                  known_face_names.append(name.lower())\n",
        "                  known_face_encodings.append(face_encoding)\n",
        "\n",
        "                if name in appearances:\n",
        "                  appearances[name].append(f_num)\n",
        "                else:\n",
        "                  appearances[name] = [f_num]\n",
        "                  \n",
        "                face_names.append(name)\n",
        "        process_this_frame = not process_this_frame\n",
        "\n",
        "        for (top, right, bottom, left), name in zip(face_locations, face_names):\n",
        "            top *= 1\n",
        "            right *= 1\n",
        "            bottom *= 1\n",
        "            left *= 1\n",
        "            top, right, bottom, left = int(top), int(right), int(bottom), int(left)\n",
        "            font = cv2.FONT_HERSHEY_COMPLEX_SMALL\n",
        "            cv2.rectangle(frame, (left-32, top-32), (right+32, bottom+32), (0, 0, 255), 2)\n",
        "            cv2.putText(frame, name.split('.')[0], (left + 50, bottom - 50), font, 1.0, (0, 255, 0), 1)\n",
        "\n",
        "        # WRITING RESULTING FRAMES TO NEW DIRECTORY\n",
        "        cv2.imwrite('output_images/' + str(i)+'.png', frame) \n",
        "        # plt.ion()\n",
        "        # plt.figure()\n",
        "        # plt.imshow(frame)\n",
        "        # plt.show(block=False)\n",
        "        # plt.close()\n",
        "\n",
        "face()"
      ],
      "execution_count": null,
      "outputs": []
    },
    {
      "cell_type": "code",
      "metadata": {
        "colab": {
          "base_uri": "https://localhost:8080/"
        },
        "id": "NJVh4sUOFDaf",
        "outputId": "b4cf45cb-7ef1-4c76-a30e-7625f3848ba5"
      },
      "source": [
        "print('Unique people: ', len(list(set(known_face_names))))"
      ],
      "execution_count": null,
      "outputs": [
        {
          "output_type": "stream",
          "text": [
            "Unique people:  16\n"
          ],
          "name": "stdout"
        }
      ]
    },
    {
      "cell_type": "markdown",
      "metadata": {
        "id": "6wDhb3IL_JT4"
      },
      "source": [
        "\n",
        "\n",
        "---\n",
        "\n",
        "**CLUSTERING EMBEDDINGS**\n",
        "\n",
        "---\n",
        "\n"
      ]
    },
    {
      "cell_type": "code",
      "metadata": {
        "colab": {
          "base_uri": "https://localhost:8080/",
          "height": 283
        },
        "id": "Y2Vpm6AbiQCE",
        "outputId": "198891ef-63d0-4371-819f-062d38d2e839"
      },
      "source": [
        "X = known_face_encodings\n",
        "pca = PCA(n_components=2)\n",
        "result = pca.fit_transform(X)\n",
        "\n",
        "kmeans = cluster.KMeans(n_clusters=3, random_state=0).fit(X)\n",
        "plt.scatter(result[:, 0], result[:, 1], c=kmeans.labels_)"
      ],
      "execution_count": null,
      "outputs": [
        {
          "output_type": "execute_result",
          "data": {
            "text/plain": [
              "<matplotlib.collections.PathCollection at 0x7f997e3fb0b8>"
            ]
          },
          "metadata": {
            "tags": []
          },
          "execution_count": 21
        },
        {
          "output_type": "display_data",
          "data": {
            "image/png": "[encoded data removed]",
            "text/plain": [
              "<Figure size 432x288 with 1 Axes>"
            ]
          },
          "metadata": {
            "tags": []
          }
        }
      ]
    },
    {
      "cell_type": "markdown",
      "metadata": {
        "id": "_n581N-A_OzB"
      },
      "source": [
        "\n",
        "\n",
        "---\n",
        "\n",
        "**GENERATING TABLE**\n",
        "\n",
        "---\n",
        "\n"
      ]
    },
    {
      "cell_type": "code",
      "metadata": {
        "id": "cDapUqfxiQEi"
      },
      "source": [
        "names_embeddings = zip(known_face_names, known_face_encodings)\n",
        "new_names, new_embeddings = [], []\n",
        "\n",
        "for i, e in names_embeddings:\n",
        "  if i in new_names:\n",
        "    continue\n",
        "  else:\n",
        "    new_names.append(i)\n",
        "    new_embeddings.append(e)"
      ],
      "execution_count": null,
      "outputs": []
    },
    {
      "cell_type": "code",
      "metadata": {
        "id": "64_8q_czpln0"
      },
      "source": [
        "new_times = []\n",
        "\n",
        "for t in appearances:\n",
        "  times = appearances[t]\n",
        "  time_str = []\n",
        "  x = 0\n",
        "  till = x\n",
        "\n",
        "  if len(times) == 0:\n",
        "    new_times.append('')\n",
        "  if len(times) == 1:\n",
        "    time_str.append(str(td(seconds=times[0])) + ' - ' + str(td(seconds=times[0])))\n",
        "    time_str = ', '.join(time_str)\n",
        "    new_times.append(time_str)\n",
        "  else:\n",
        "    while x < len(times):\n",
        "      prev = times[x]\n",
        "      for y in range(x, len(times)):\n",
        "        if times[y] - prev <= 25:\n",
        "          till = y\n",
        "          prev = times[y]\n",
        "        else:\n",
        "          till +=1\n",
        "          time_str.append(str(td(seconds=times[x])) + ' - ' + str(td(seconds=times[x])))\n",
        "          x += 1\n",
        "      time_str.append(str(td(seconds=times[x])) + ' - ' + str(td(seconds=times[till])))\n",
        "      x += till\n",
        "    time_str = ', '.join(time_str)\n",
        "    new_times.append(time_str)"
      ],
      "execution_count": null,
      "outputs": []
    },
    {
      "cell_type": "code",
      "metadata": {
        "id": "KLyfo9xZHVAo"
      },
      "source": [
        "respective_time = []\n",
        "\n",
        "for x in new_names:\n",
        "  ind = new_names.index(x)\n",
        "  respective_time.append(new_times[ind])"
      ],
      "execution_count": null,
      "outputs": []
    },
    {
      "cell_type": "code",
      "metadata": {
        "colab": {
          "base_uri": "https://localhost:8080/"
        },
        "id": "qb1zou67pjnw",
        "outputId": "c1bf503a-903d-4b12-aff2-f3c502ed6611"
      },
      "source": [
        "table = pd.DataFrame({'Person': new_names, 'Sample face': new_embeddings, 'Time frame': respective_time})\n",
        "print(table)"
      ],
      "execution_count": null,
      "outputs": [
        {
          "output_type": "stream",
          "text": [
            "         Person  ...                                         Time frame\n",
            "0         rafik  ...  0:14:25 - 0:14:25, 0:14:30 - 0:14:30, 0:14:35 ...\n",
            "1        rodney  ...  0:52:55 - 0:52:55, 0:54:35 - 0:54:35, 0:54:45 ...\n",
            "2          anna  ...                                                   \n",
            "3    anastasiya  ...                                                   \n",
            "4          igor  ...                                  1:25:50 - 1:25:50\n",
            "5        daniel  ...  0:51:30 - 0:51:30, 0:51:35 - 0:51:35, 0:51:40 ...\n",
            "6        zuhair  ...  0:06:45 - 0:06:45, 0:06:50 - 0:06:50, 0:06:55 ...\n",
            "7   little girl  ...  0:13:50 - 0:13:50, 0:13:55 - 0:13:55, 0:14:05 ...\n",
            "8         arina  ...  0:18:25 - 0:18:25, 0:18:30 - 0:18:30, 0:18:35 ...\n",
            "9        andrey  ...                                                   \n",
            "10         olya  ...                                                   \n",
            "11        sasha  ...  0:52:10 - 0:52:10, 0:52:15 - 0:52:15, 0:53:30 ...\n",
            "12       andres  ...                                                   \n",
            "13               ...                                                   \n",
            "14        irina  ...  0:40:35 - 0:40:35, 0:40:40 - 0:40:40, 0:40:45 ...\n",
            "15       joseph  ...  0:01:10 - 0:01:10, 0:07:05 - 0:07:05, 0:09:10 ...\n",
            "\n",
            "[16 rows x 3 columns]\n"
          ],
          "name": "stdout"
        }
      ]
    },
    {
      "cell_type": "markdown",
      "metadata": {
        "id": "948CpFxSSlbr"
      },
      "source": [
        "\n",
        "\n",
        "---\n",
        "\n",
        "\n",
        "**GENERATING OUTPUT VIDEO**\n",
        "\n",
        "---\n",
        "\n",
        "\n",
        "\n"
      ]
    },
    {
      "cell_type": "code",
      "metadata": {
        "id": "LWOGHqKRJI7h"
      },
      "source": [
        "img_array = []\n",
        "path = '/content/output_images/'\n",
        "output_frames = os.listdir(path)\n",
        "output_frames = sorted(output_frames,key=lambda x: int(os.path.splitext(x)[0]))\n",
        "\n",
        "for filename in output_frames:\n",
        "    img = cv2.imread(os.path.join(path, filename))\n",
        "    height, width, layers = img.shape\n",
        "    size = (width,height)\n",
        "    img_array.append(img)\n",
        "\n",
        "out = cv2.VideoWriter('output.mp4',cv2.VideoWriter_fourcc(*'MP4V'), 1, size)\n",
        " \n",
        "for i in range(len(img_array)):\n",
        "    out.write(img_array[i])\n",
        "out.release()"
      ],
      "execution_count": null,
      "outputs": []
    },
    {
      "cell_type": "markdown",
      "metadata": {
        "id": "1WZzEkrNSP92"
      },
      "source": [
        "\n",
        "\n",
        "---\n",
        "\n",
        "**OUTPUT VIDEO** - ( If it doesn't play here, please download the video )\n",
        "\n",
        "---\n",
        "\n"
      ]
    },
    {
      "cell_type": "code",
      "metadata": {
        "id": "dMF4eX4ibXp6"
      },
      "source": [
        "mp4 = open(\"output.mp4\", \"rb\").read()\n",
        "data_url = \"data:video/mp4;base64,\" + b64encode(mp4).decode()"
      ],
      "execution_count": null,
      "outputs": []
    },
    {
      "cell_type": "code",
      "metadata": {
        "colab": {
          "background_save": true
        },
        "id": "D-pXOIJPbXp7"
      },
      "source": [
        "HTML(\"\"\"\n",
        "    <video width=400 controls>\n",
        "        <source src=\"%s\" type=\"video/mp4\">\n",
        "    </video>\n",
        "\"\"\" % data_url)"
      ],
      "execution_count": null,
      "outputs": []
    }
  ]
}